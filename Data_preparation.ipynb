{
  "cells": [
    {
      "cell_type": "code",
      "execution_count": 1,
      "metadata": {
        "colab": {
          "base_uri": "https://localhost:8080/"
        },
        "id": "cucW5_s5AiuP",
        "outputId": "4e88ce86-39dd-48ef-8983-2d592b52c155"
      },
      "outputs": [
        {
          "name": "stdout",
          "output_type": "stream",
          "text": [
            "Merged file saved as merged_2020.csv\n"
          ]
        },
        {
          "name": "stderr",
          "output_type": "stream",
          "text": [
            "C:\\Users\\user\\AppData\\Local\\Temp\\ipykernel_1272\\2014490689.py:25: DtypeWarning: Columns (1,2,4,5) have mixed types. Specify dtype option on import or set low_memory=False.\n",
            "  df = pd.read_csv('merged_2020.csv')\n"
          ]
        },
        {
          "name": "stdout",
          "output_type": "stream",
          "text": [
            "<class 'pandas.core.frame.DataFrame'>\n",
            "RangeIndex: 1015432 entries, 0 to 1015431\n",
            "Data columns (total 15 columns):\n",
            " #   Column           Non-Null Count    Dtype  \n",
            "---  ------           --------------    -----  \n",
            " 0   TRDTYPE          1015432 non-null  int64  \n",
            " 1   USASTATE         866910 non-null   object \n",
            " 2   DEPE             380551 non-null   object \n",
            " 3   DISAGMOT         1015432 non-null  int64  \n",
            " 4   MEXSTATE         276760 non-null   object \n",
            " 5   CANPROV          533274 non-null   object \n",
            " 6   COUNTRY          1015432 non-null  int64  \n",
            " 7   VALUE            1015432 non-null  int64  \n",
            " 8   SHIPWT           1015432 non-null  int64  \n",
            " 9   FREIGHT_CHARGES  1015432 non-null  int64  \n",
            " 10  DF               670468 non-null   float64\n",
            " 11  CONTCODE         1015432 non-null  object \n",
            " 12  MONTH            1015432 non-null  int64  \n",
            " 13  YEAR             1015432 non-null  int64  \n",
            " 14  COMMODITY2       783403 non-null   float64\n",
            "dtypes: float64(2), int64(8), object(5)\n",
            "memory usage: 116.2+ MB\n"
          ]
        }
      ],
      "source": [
        "import pandas as pd\n",
        "\n",
        "# List of the CSV files to merge\n",
        "csv_files = ['dot1_ytd_0920.csv', 'dot2_ytd_0920.csv', 'dot3_ytd_0920.csv']\n",
        "\n",
        "# List to store each DataFrame\n",
        "dfs = []\n",
        "\n",
        "# Read and append each file\n",
        "for file in csv_files:\n",
        "    try:\n",
        "        df = pd.read_csv(file)\n",
        "        dfs.append(df)\n",
        "    except Exception as e:\n",
        "        print(f\"Error reading {file}: {e}\")\n",
        "\n",
        "# Merge and save\n",
        "if dfs:\n",
        "    merged_df = pd.concat(dfs, ignore_index=True)\n",
        "    merged_df.to_csv(\"merged_2020.csv\", index=False)\n",
        "    print(\"Merged file saved as merged_2020.csv\")\n",
        "else:\n",
        "    print(\"No files were merged.\")\n",
        "\n",
        "df = pd.read_csv('merged_2020.csv')\n",
        "df.head()\n",
        "df.info()"
      ]
    },
    {
      "cell_type": "code",
      "execution_count": 2,
      "metadata": {
        "colab": {
          "base_uri": "https://localhost:8080/",
          "height": 258
        },
        "id": "d3IYMHAGCJhH",
        "outputId": "4ff6a3d4-5021-4c0b-feec-648d41f06e3b"
      },
      "outputs": [
        {
          "name": "stdout",
          "output_type": "stream",
          "text": [
            "Merged file saved as merged_2021.csv\n"
          ]
        },
        {
          "name": "stderr",
          "output_type": "stream",
          "text": [
            "C:\\Users\\user\\AppData\\Local\\Temp\\ipykernel_1272\\2060169994.py:25: DtypeWarning: Columns (1,2,4,5) have mixed types. Specify dtype option on import or set low_memory=False.\n",
            "  df = pd.read_csv('merged_2021.csv')\n"
          ]
        },
        {
          "data": {
            "text/html": [
              "<div>\n",
              "<style scoped>\n",
              "    .dataframe tbody tr th:only-of-type {\n",
              "        vertical-align: middle;\n",
              "    }\n",
              "\n",
              "    .dataframe tbody tr th {\n",
              "        vertical-align: top;\n",
              "    }\n",
              "\n",
              "    .dataframe thead th {\n",
              "        text-align: right;\n",
              "    }\n",
              "</style>\n",
              "<table border=\"1\" class=\"dataframe\">\n",
              "  <thead>\n",
              "    <tr style=\"text-align: right;\">\n",
              "      <th></th>\n",
              "      <th>TRDTYPE</th>\n",
              "      <th>USASTATE</th>\n",
              "      <th>DEPE</th>\n",
              "      <th>DISAGMOT</th>\n",
              "      <th>MEXSTATE</th>\n",
              "      <th>CANPROV</th>\n",
              "      <th>COUNTRY</th>\n",
              "      <th>VALUE</th>\n",
              "      <th>SHIPWT</th>\n",
              "      <th>FREIGHT_CHARGES</th>\n",
              "      <th>DF</th>\n",
              "      <th>CONTCODE</th>\n",
              "      <th>MONTH</th>\n",
              "      <th>YEAR</th>\n",
              "      <th>COMMODITY2</th>\n",
              "    </tr>\n",
              "  </thead>\n",
              "  <tbody>\n",
              "    <tr>\n",
              "      <th>0</th>\n",
              "      <td>1</td>\n",
              "      <td>AK</td>\n",
              "      <td>18XX</td>\n",
              "      <td>1</td>\n",
              "      <td>XX</td>\n",
              "      <td>NaN</td>\n",
              "      <td>2010</td>\n",
              "      <td>5940</td>\n",
              "      <td>1136</td>\n",
              "      <td>0</td>\n",
              "      <td>1.0</td>\n",
              "      <td>1</td>\n",
              "      <td>1</td>\n",
              "      <td>2021</td>\n",
              "      <td>NaN</td>\n",
              "    </tr>\n",
              "    <tr>\n",
              "      <th>1</th>\n",
              "      <td>1</td>\n",
              "      <td>AK</td>\n",
              "      <td>20XX</td>\n",
              "      <td>3</td>\n",
              "      <td>NaN</td>\n",
              "      <td>XA</td>\n",
              "      <td>1220</td>\n",
              "      <td>7490</td>\n",
              "      <td>26</td>\n",
              "      <td>155</td>\n",
              "      <td>1.0</td>\n",
              "      <td>X</td>\n",
              "      <td>1</td>\n",
              "      <td>2021</td>\n",
              "      <td>NaN</td>\n",
              "    </tr>\n",
              "    <tr>\n",
              "      <th>2</th>\n",
              "      <td>1</td>\n",
              "      <td>AK</td>\n",
              "      <td>20XX</td>\n",
              "      <td>3</td>\n",
              "      <td>NaN</td>\n",
              "      <td>XA</td>\n",
              "      <td>1220</td>\n",
              "      <td>24885</td>\n",
              "      <td>13</td>\n",
              "      <td>78</td>\n",
              "      <td>2.0</td>\n",
              "      <td>X</td>\n",
              "      <td>1</td>\n",
              "      <td>2021</td>\n",
              "      <td>NaN</td>\n",
              "    </tr>\n",
              "    <tr>\n",
              "      <th>3</th>\n",
              "      <td>1</td>\n",
              "      <td>AK</td>\n",
              "      <td>20XX</td>\n",
              "      <td>3</td>\n",
              "      <td>NaN</td>\n",
              "      <td>XC</td>\n",
              "      <td>1220</td>\n",
              "      <td>16415</td>\n",
              "      <td>139</td>\n",
              "      <td>355</td>\n",
              "      <td>1.0</td>\n",
              "      <td>X</td>\n",
              "      <td>1</td>\n",
              "      <td>2021</td>\n",
              "      <td>NaN</td>\n",
              "    </tr>\n",
              "    <tr>\n",
              "      <th>4</th>\n",
              "      <td>1</td>\n",
              "      <td>AK</td>\n",
              "      <td>20XX</td>\n",
              "      <td>3</td>\n",
              "      <td>NaN</td>\n",
              "      <td>XC</td>\n",
              "      <td>1220</td>\n",
              "      <td>9025</td>\n",
              "      <td>5</td>\n",
              "      <td>35</td>\n",
              "      <td>2.0</td>\n",
              "      <td>X</td>\n",
              "      <td>1</td>\n",
              "      <td>2021</td>\n",
              "      <td>NaN</td>\n",
              "    </tr>\n",
              "  </tbody>\n",
              "</table>\n",
              "</div>"
            ],
            "text/plain": [
              "   TRDTYPE USASTATE  DEPE  DISAGMOT MEXSTATE CANPROV  COUNTRY  VALUE  SHIPWT  \\\n",
              "0        1       AK  18XX         1       XX     NaN     2010   5940    1136   \n",
              "1        1       AK  20XX         3      NaN      XA     1220   7490      26   \n",
              "2        1       AK  20XX         3      NaN      XA     1220  24885      13   \n",
              "3        1       AK  20XX         3      NaN      XC     1220  16415     139   \n",
              "4        1       AK  20XX         3      NaN      XC     1220   9025       5   \n",
              "\n",
              "   FREIGHT_CHARGES   DF CONTCODE  MONTH  YEAR  COMMODITY2  \n",
              "0                0  1.0        1      1  2021         NaN  \n",
              "1              155  1.0        X      1  2021         NaN  \n",
              "2               78  2.0        X      1  2021         NaN  \n",
              "3              355  1.0        X      1  2021         NaN  \n",
              "4               35  2.0        X      1  2021         NaN  "
            ]
          },
          "execution_count": 2,
          "metadata": {},
          "output_type": "execute_result"
        }
      ],
      "source": [
        "import pandas as pd\n",
        "\n",
        "# List of the CSV files to merge\n",
        "csv_files = ['dot1_ytd_1221.csv', 'dot2_ytd_1221.csv', 'dot3_ytd_1221.csv']\n",
        "\n",
        "# List to store each DataFrame\n",
        "dfs = []\n",
        "\n",
        "# Read and append each file\n",
        "for file in csv_files:\n",
        "    try:\n",
        "        df = pd.read_csv(file)\n",
        "        dfs.append(df)\n",
        "    except Exception as e:\n",
        "        print(f\"Error reading {file}: {e}\")\n",
        "\n",
        "# Merge and save\n",
        "if dfs:\n",
        "    merged_df = pd.concat(dfs, ignore_index=True)\n",
        "    merged_df.to_csv(\"merged_2021.csv\", index=False)\n",
        "    print(\"Merged file saved as merged_2021.csv\")\n",
        "else:\n",
        "    print(\"No files were merged.\")\n",
        "\n",
        "df = pd.read_csv('merged_2021.csv')\n",
        "df.head()\n"
      ]
    },
    {
      "cell_type": "code",
      "execution_count": null,
      "metadata": {
        "id": "u9b6HDTwHcT_"
      },
      "outputs": [],
      "source": []
    },
    {
      "cell_type": "code",
      "execution_count": 3,
      "metadata": {
        "colab": {
          "base_uri": "https://localhost:8080/",
          "height": 258
        },
        "id": "yLZws1mJCySM",
        "outputId": "4ff6a3d4-5021-4c0b-feec-648d41f06e3b"
      },
      "outputs": [
        {
          "name": "stderr",
          "output_type": "stream",
          "text": [
            "C:\\Users\\user\\AppData\\Local\\Temp\\ipykernel_1272\\2652851860.py:12: DtypeWarning: Columns (4,11) have mixed types. Specify dtype option on import or set low_memory=False.\n",
            "  df = pd.read_csv(file)\n"
          ]
        },
        {
          "name": "stdout",
          "output_type": "stream",
          "text": [
            "Merged file saved as merged_2022.csv\n"
          ]
        },
        {
          "name": "stderr",
          "output_type": "stream",
          "text": [
            "C:\\Users\\user\\AppData\\Local\\Temp\\ipykernel_1272\\2652851860.py:25: DtypeWarning: Columns (1,2,4,5) have mixed types. Specify dtype option on import or set low_memory=False.\n",
            "  df = pd.read_csv('merged_2022.csv')\n"
          ]
        },
        {
          "data": {
            "text/html": [
              "<div>\n",
              "<style scoped>\n",
              "    .dataframe tbody tr th:only-of-type {\n",
              "        vertical-align: middle;\n",
              "    }\n",
              "\n",
              "    .dataframe tbody tr th {\n",
              "        vertical-align: top;\n",
              "    }\n",
              "\n",
              "    .dataframe thead th {\n",
              "        text-align: right;\n",
              "    }\n",
              "</style>\n",
              "<table border=\"1\" class=\"dataframe\">\n",
              "  <thead>\n",
              "    <tr style=\"text-align: right;\">\n",
              "      <th></th>\n",
              "      <th>TRDTYPE</th>\n",
              "      <th>USASTATE</th>\n",
              "      <th>DEPE</th>\n",
              "      <th>DISAGMOT</th>\n",
              "      <th>MEXSTATE</th>\n",
              "      <th>CANPROV</th>\n",
              "      <th>COUNTRY</th>\n",
              "      <th>VALUE</th>\n",
              "      <th>SHIPWT</th>\n",
              "      <th>FREIGHT_CHARGES</th>\n",
              "      <th>DF</th>\n",
              "      <th>CONTCODE</th>\n",
              "      <th>MONTH</th>\n",
              "      <th>YEAR</th>\n",
              "      <th>COMMODITY2</th>\n",
              "    </tr>\n",
              "  </thead>\n",
              "  <tbody>\n",
              "    <tr>\n",
              "      <th>0</th>\n",
              "      <td>1</td>\n",
              "      <td>AK</td>\n",
              "      <td>0901</td>\n",
              "      <td>5</td>\n",
              "      <td>NaN</td>\n",
              "      <td>XO</td>\n",
              "      <td>1220</td>\n",
              "      <td>7042</td>\n",
              "      <td>0</td>\n",
              "      <td>137</td>\n",
              "      <td>1.0</td>\n",
              "      <td>X</td>\n",
              "      <td>1</td>\n",
              "      <td>2022</td>\n",
              "      <td>NaN</td>\n",
              "    </tr>\n",
              "    <tr>\n",
              "      <th>1</th>\n",
              "      <td>1</td>\n",
              "      <td>AK</td>\n",
              "      <td>20XX</td>\n",
              "      <td>3</td>\n",
              "      <td>NaN</td>\n",
              "      <td>XA</td>\n",
              "      <td>1220</td>\n",
              "      <td>117977</td>\n",
              "      <td>485</td>\n",
              "      <td>2181</td>\n",
              "      <td>1.0</td>\n",
              "      <td>X</td>\n",
              "      <td>1</td>\n",
              "      <td>2022</td>\n",
              "      <td>NaN</td>\n",
              "    </tr>\n",
              "    <tr>\n",
              "      <th>2</th>\n",
              "      <td>1</td>\n",
              "      <td>AK</td>\n",
              "      <td>20XX</td>\n",
              "      <td>3</td>\n",
              "      <td>NaN</td>\n",
              "      <td>XC</td>\n",
              "      <td>1220</td>\n",
              "      <td>105057</td>\n",
              "      <td>22924</td>\n",
              "      <td>8899</td>\n",
              "      <td>1.0</td>\n",
              "      <td>X</td>\n",
              "      <td>1</td>\n",
              "      <td>2022</td>\n",
              "      <td>NaN</td>\n",
              "    </tr>\n",
              "    <tr>\n",
              "      <th>3</th>\n",
              "      <td>1</td>\n",
              "      <td>AK</td>\n",
              "      <td>20XX</td>\n",
              "      <td>3</td>\n",
              "      <td>NaN</td>\n",
              "      <td>XO</td>\n",
              "      <td>1220</td>\n",
              "      <td>24751</td>\n",
              "      <td>32</td>\n",
              "      <td>871</td>\n",
              "      <td>1.0</td>\n",
              "      <td>X</td>\n",
              "      <td>1</td>\n",
              "      <td>2022</td>\n",
              "      <td>NaN</td>\n",
              "    </tr>\n",
              "    <tr>\n",
              "      <th>4</th>\n",
              "      <td>1</td>\n",
              "      <td>AK</td>\n",
              "      <td>20XX</td>\n",
              "      <td>3</td>\n",
              "      <td>NaN</td>\n",
              "      <td>XQ</td>\n",
              "      <td>1220</td>\n",
              "      <td>2773</td>\n",
              "      <td>1</td>\n",
              "      <td>130</td>\n",
              "      <td>1.0</td>\n",
              "      <td>X</td>\n",
              "      <td>1</td>\n",
              "      <td>2022</td>\n",
              "      <td>NaN</td>\n",
              "    </tr>\n",
              "  </tbody>\n",
              "</table>\n",
              "</div>"
            ],
            "text/plain": [
              "   TRDTYPE USASTATE  DEPE  DISAGMOT MEXSTATE CANPROV  COUNTRY   VALUE  SHIPWT  \\\n",
              "0        1       AK  0901         5      NaN      XO     1220    7042       0   \n",
              "1        1       AK  20XX         3      NaN      XA     1220  117977     485   \n",
              "2        1       AK  20XX         3      NaN      XC     1220  105057   22924   \n",
              "3        1       AK  20XX         3      NaN      XO     1220   24751      32   \n",
              "4        1       AK  20XX         3      NaN      XQ     1220    2773       1   \n",
              "\n",
              "   FREIGHT_CHARGES   DF CONTCODE  MONTH  YEAR  COMMODITY2  \n",
              "0              137  1.0        X      1  2022         NaN  \n",
              "1             2181  1.0        X      1  2022         NaN  \n",
              "2             8899  1.0        X      1  2022         NaN  \n",
              "3              871  1.0        X      1  2022         NaN  \n",
              "4              130  1.0        X      1  2022         NaN  "
            ]
          },
          "execution_count": 3,
          "metadata": {},
          "output_type": "execute_result"
        }
      ],
      "source": [
        "import pandas as pd\n",
        "\n",
        "# List of the CSV files to merge\n",
        "csv_files = ['dot1_ytd_1222.csv', 'dot2_ytd_1222.csv', 'dot3_ytd_1222.csv']\n",
        "\n",
        "# List to store each DataFrame\n",
        "dfs = []\n",
        "\n",
        "# Read and append each file\n",
        "for file in csv_files:\n",
        "    try:\n",
        "        df = pd.read_csv(file)\n",
        "        dfs.append(df)\n",
        "    except Exception as e:\n",
        "        print(f\"Error reading {file}: {e}\")\n",
        "\n",
        "# Merge and save\n",
        "if dfs:\n",
        "    merged_df = pd.concat(dfs, ignore_index=True)\n",
        "    merged_df.to_csv(\"merged_2022.csv\", index=False)\n",
        "    print(\"Merged file saved as merged_2022.csv\")\n",
        "else:\n",
        "    print(\"No files were merged.\")\n",
        "\n",
        "df = pd.read_csv('merged_2022.csv')\n",
        "df.head()\n"
      ]
    },
    {
      "cell_type": "code",
      "execution_count": null,
      "metadata": {},
      "outputs": [
        {
          "name": "stdout",
          "output_type": "stream",
          "text": [
            "📂 Found 3 CSV(s) in Dec2023\n",
            "📂 Found 6 CSV(s) in April2023\n"
          ]
        },
        {
          "name": "stderr",
          "output_type": "stream",
          "text": [
            "C:\\Users\\user\\AppData\\Local\\Temp\\ipykernel_1272\\1796297082.py:25: DtypeWarning: Columns (4,11) have mixed types. Specify dtype option on import or set low_memory=False.\n",
            "  df = pd.read_csv(file)\n",
            "C:\\Users\\user\\AppData\\Local\\Temp\\ipykernel_1272\\1796297082.py:25: DtypeWarning: Columns (4,11) have mixed types. Specify dtype option on import or set low_memory=False.\n",
            "  df = pd.read_csv(file)\n",
            "C:\\Users\\user\\AppData\\Local\\Temp\\ipykernel_1272\\1796297082.py:25: DtypeWarning: Columns (9) have mixed types. Specify dtype option on import or set low_memory=False.\n",
            "  df = pd.read_csv(file)\n"
          ]
        },
        {
          "name": "stdout",
          "output_type": "stream",
          "text": [
            "📂 Found 6 CSV(s) in Aug2023\n"
          ]
        },
        {
          "name": "stderr",
          "output_type": "stream",
          "text": [
            "C:\\Users\\user\\AppData\\Local\\Temp\\ipykernel_1272\\1796297082.py:25: DtypeWarning: Columns (4,11) have mixed types. Specify dtype option on import or set low_memory=False.\n",
            "  df = pd.read_csv(file)\n"
          ]
        },
        {
          "name": "stdout",
          "output_type": "stream",
          "text": [
            "📂 Found 6 CSV(s) in Feb2023\n"
          ]
        },
        {
          "name": "stderr",
          "output_type": "stream",
          "text": [
            "C:\\Users\\user\\AppData\\Local\\Temp\\ipykernel_1272\\1796297082.py:25: DtypeWarning: Columns (4,11) have mixed types. Specify dtype option on import or set low_memory=False.\n",
            "  df = pd.read_csv(file)\n",
            "C:\\Users\\user\\AppData\\Local\\Temp\\ipykernel_1272\\1796297082.py:25: DtypeWarning: Columns (4,11) have mixed types. Specify dtype option on import or set low_memory=False.\n",
            "  df = pd.read_csv(file)\n"
          ]
        },
        {
          "name": "stdout",
          "output_type": "stream",
          "text": [
            "📂 Found 6 CSV(s) in Jan2023\n"
          ]
        },
        {
          "name": "stderr",
          "output_type": "stream",
          "text": [
            "C:\\Users\\user\\AppData\\Local\\Temp\\ipykernel_1272\\1796297082.py:25: DtypeWarning: Columns (4,11) have mixed types. Specify dtype option on import or set low_memory=False.\n",
            "  df = pd.read_csv(file)\n",
            "C:\\Users\\user\\AppData\\Local\\Temp\\ipykernel_1272\\1796297082.py:25: DtypeWarning: Columns (4,11) have mixed types. Specify dtype option on import or set low_memory=False.\n",
            "  df = pd.read_csv(file)\n"
          ]
        },
        {
          "name": "stdout",
          "output_type": "stream",
          "text": [
            "📂 Found 6 CSV(s) in July2023\n"
          ]
        },
        {
          "name": "stderr",
          "output_type": "stream",
          "text": [
            "C:\\Users\\user\\AppData\\Local\\Temp\\ipykernel_1272\\1796297082.py:25: DtypeWarning: Columns (4,11) have mixed types. Specify dtype option on import or set low_memory=False.\n",
            "  df = pd.read_csv(file)\n",
            "C:\\Users\\user\\AppData\\Local\\Temp\\ipykernel_1272\\1796297082.py:25: DtypeWarning: Columns (4,11) have mixed types. Specify dtype option on import or set low_memory=False.\n",
            "  df = pd.read_csv(file)\n",
            "C:\\Users\\user\\AppData\\Local\\Temp\\ipykernel_1272\\1796297082.py:25: DtypeWarning: Columns (4,11) have mixed types. Specify dtype option on import or set low_memory=False.\n",
            "  df = pd.read_csv(file)\n"
          ]
        },
        {
          "name": "stdout",
          "output_type": "stream",
          "text": [
            "📂 Found 6 CSV(s) in June2023\n"
          ]
        },
        {
          "name": "stderr",
          "output_type": "stream",
          "text": [
            "C:\\Users\\user\\AppData\\Local\\Temp\\ipykernel_1272\\1796297082.py:25: DtypeWarning: Columns (4,11) have mixed types. Specify dtype option on import or set low_memory=False.\n",
            "  df = pd.read_csv(file)\n",
            "C:\\Users\\user\\AppData\\Local\\Temp\\ipykernel_1272\\1796297082.py:25: DtypeWarning: Columns (4,11) have mixed types. Specify dtype option on import or set low_memory=False.\n",
            "  df = pd.read_csv(file)\n"
          ]
        },
        {
          "name": "stdout",
          "output_type": "stream",
          "text": [
            "📂 Found 6 CSV(s) in March2023\n"
          ]
        },
        {
          "name": "stderr",
          "output_type": "stream",
          "text": [
            "C:\\Users\\user\\AppData\\Local\\Temp\\ipykernel_1272\\1796297082.py:25: DtypeWarning: Columns (4,11) have mixed types. Specify dtype option on import or set low_memory=False.\n",
            "  df = pd.read_csv(file)\n"
          ]
        },
        {
          "name": "stdout",
          "output_type": "stream",
          "text": [
            "📂 Found 3 CSV(s) in Nov2023\n"
          ]
        },
        {
          "name": "stderr",
          "output_type": "stream",
          "text": [
            "C:\\Users\\user\\AppData\\Local\\Temp\\ipykernel_1272\\1796297082.py:25: DtypeWarning: Columns (4,11) have mixed types. Specify dtype option on import or set low_memory=False.\n",
            "  df = pd.read_csv(file)\n",
            "C:\\Users\\user\\AppData\\Local\\Temp\\ipykernel_1272\\1796297082.py:25: DtypeWarning: Columns (4,11) have mixed types. Specify dtype option on import or set low_memory=False.\n",
            "  df = pd.read_csv(file)\n"
          ]
        },
        {
          "name": "stdout",
          "output_type": "stream",
          "text": [
            "📂 Found 3 CSV(s) in Oct2023\n",
            "📂 Found 3 CSV(s) in sept2023\n"
          ]
        },
        {
          "name": "stderr",
          "output_type": "stream",
          "text": [
            "C:\\Users\\user\\AppData\\Local\\Temp\\ipykernel_1272\\1796297082.py:25: DtypeWarning: Columns (4,11) have mixed types. Specify dtype option on import or set low_memory=False.\n",
            "  df = pd.read_csv(file)\n"
          ]
        },
        {
          "name": "stdout",
          "output_type": "stream",
          "text": [
            "✅ Merged selected folder data saved as merged_selected_folders.csv\n"
          ]
        }
      ],
      "source": [
        "import pandas as pd\n",
        "from pathlib import Path\n",
        "\n",
        "# Define the base data directory\n",
        "# base_dir = Path(\"data\")\n",
        "\n",
        "# List the specific subfolders you want to merge from\n",
        "folders_to_merge = ['Dec2023', 'April2023', 'Aug2023', 'Feb2023', 'Jan2023', 'July2023', 'June2023', 'March2023', 'Nov2023', 'Oct2023', 'sept2023']  # Add more as needed\n",
        "\n",
        "# List to collect all DataFrames\n",
        "dfs = []\n",
        "\n",
        "# Loop through each target folder\n",
        "for folder_name in folders_to_merge:\n",
        "    folder_path = Path(folder_name)\n",
        "    if not folder_path.exists():\n",
        "        print(f\"❌ Folder not found: {folder_name}\")\n",
        "        continue\n",
        "\n",
        "    csv_files = list(folder_path.glob(\"*.csv\"))\n",
        "    print(f\"📂 Found {len(csv_files)} CSV(s) in {folder_name}\")\n",
        "    \n",
        "    for file in csv_files:\n",
        "        try:\n",
        "            df = pd.read_csv(file)\n",
        "            df['source_folder'] = folder_name  # Optional: keep track of origin\n",
        "            dfs.append(df)\n",
        "        except Exception as e:\n",
        "            print(f\"⚠️ Error reading {file}: {e}\")\n",
        "\n",
        "# Merge all the collected DataFrames\n",
        "if dfs:\n",
        "    merged_df = pd.concat(dfs, ignore_index=True)\n",
        "    merged_df.to_csv(\"merged_2023.csv\", index=False)\n",
        "    print(\"✅ Merged selected folder data saved as merged_selected_folders.csv\")\n",
        "else:\n",
        "    print(\"⚠️ No data was merged. Check the folder names or contents.\")\n"
      ]
    },
    {
      "cell_type": "code",
      "execution_count": 8,
      "metadata": {},
      "outputs": [
        {
          "name": "stdout",
          "output_type": "stream",
          "text": [
            "📂 Found 3 CSV(s) in April2024\n",
            "📂 Found 3 CSV(s) in Aug2024\n"
          ]
        },
        {
          "name": "stderr",
          "output_type": "stream",
          "text": [
            "C:\\Users\\user\\AppData\\Local\\Temp\\ipykernel_1272\\1126916847.py:25: DtypeWarning: Columns (4,11) have mixed types. Specify dtype option on import or set low_memory=False.\n",
            "  df = pd.read_csv(file)\n",
            "C:\\Users\\user\\AppData\\Local\\Temp\\ipykernel_1272\\1126916847.py:25: DtypeWarning: Columns (4,11) have mixed types. Specify dtype option on import or set low_memory=False.\n",
            "  df = pd.read_csv(file)\n"
          ]
        },
        {
          "name": "stdout",
          "output_type": "stream",
          "text": [
            "📂 Found 3 CSV(s) in Feb2024\n",
            "📂 Found 3 CSV(s) in Jan2024\n"
          ]
        },
        {
          "name": "stderr",
          "output_type": "stream",
          "text": [
            "C:\\Users\\user\\AppData\\Local\\Temp\\ipykernel_1272\\1126916847.py:25: DtypeWarning: Columns (4,11) have mixed types. Specify dtype option on import or set low_memory=False.\n",
            "  df = pd.read_csv(file)\n",
            "C:\\Users\\user\\AppData\\Local\\Temp\\ipykernel_1272\\1126916847.py:25: DtypeWarning: Columns (4,11) have mixed types. Specify dtype option on import or set low_memory=False.\n",
            "  df = pd.read_csv(file)\n"
          ]
        },
        {
          "name": "stdout",
          "output_type": "stream",
          "text": [
            "📂 Found 3 CSV(s) in July2024\n",
            "📂 Found 3 CSV(s) in June2024\n"
          ]
        },
        {
          "name": "stderr",
          "output_type": "stream",
          "text": [
            "C:\\Users\\user\\AppData\\Local\\Temp\\ipykernel_1272\\1126916847.py:25: DtypeWarning: Columns (4,11) have mixed types. Specify dtype option on import or set low_memory=False.\n",
            "  df = pd.read_csv(file)\n",
            "C:\\Users\\user\\AppData\\Local\\Temp\\ipykernel_1272\\1126916847.py:25: DtypeWarning: Columns (4,11) have mixed types. Specify dtype option on import or set low_memory=False.\n",
            "  df = pd.read_csv(file)\n"
          ]
        },
        {
          "name": "stdout",
          "output_type": "stream",
          "text": [
            "📂 Found 2 CSV(s) in March2024\n",
            "📂 Found 3 CSV(s) in May2024\n"
          ]
        },
        {
          "name": "stderr",
          "output_type": "stream",
          "text": [
            "C:\\Users\\user\\AppData\\Local\\Temp\\ipykernel_1272\\1126916847.py:25: DtypeWarning: Columns (4,11) have mixed types. Specify dtype option on import or set low_memory=False.\n",
            "  df = pd.read_csv(file)\n",
            "C:\\Users\\user\\AppData\\Local\\Temp\\ipykernel_1272\\1126916847.py:25: DtypeWarning: Columns (4,11) have mixed types. Specify dtype option on import or set low_memory=False.\n",
            "  df = pd.read_csv(file)\n"
          ]
        },
        {
          "name": "stdout",
          "output_type": "stream",
          "text": [
            "📂 Found 3 CSV(s) in sept2024\n"
          ]
        },
        {
          "name": "stderr",
          "output_type": "stream",
          "text": [
            "C:\\Users\\user\\AppData\\Local\\Temp\\ipykernel_1272\\1126916847.py:25: DtypeWarning: Columns (4,11) have mixed types. Specify dtype option on import or set low_memory=False.\n",
            "  df = pd.read_csv(file)\n"
          ]
        },
        {
          "name": "stdout",
          "output_type": "stream",
          "text": [
            "✅ Merged selected folder data saved as merged_selected_folders.csv\n"
          ]
        }
      ],
      "source": [
        "import pandas as pd\n",
        "from pathlib import Path\n",
        "\n",
        "# Define the base data directory\n",
        "# base_dir = Path(\"data\")\n",
        "\n",
        "# List the specific subfolders you want to merge from\n",
        "folders_to_merge = ['April2024', 'Aug2024', 'Feb2024', 'Jan2024', 'July2024', 'June2024', 'March2024', 'May2024', 'sept2024']  # Add more as needed\n",
        "\n",
        "# List to collect all DataFrames\n",
        "dfs = []\n",
        "\n",
        "# Loop through each target folder\n",
        "for folder_name in folders_to_merge:\n",
        "    folder_path = Path(folder_name)\n",
        "    if not folder_path.exists():\n",
        "        print(f\"❌ Folder not found: {folder_name}\")\n",
        "        continue\n",
        "\n",
        "    csv_files = list(folder_path.glob(\"*.csv\"))\n",
        "    print(f\"📂 Found {len(csv_files)} CSV(s) in {folder_name}\")\n",
        "    \n",
        "    for file in csv_files:\n",
        "        try:\n",
        "            df = pd.read_csv(file)\n",
        "            df['source_folder'] = folder_name  # Optional: keep track of origin\n",
        "            dfs.append(df)\n",
        "        except Exception as e:\n",
        "            print(f\"⚠️ Error reading {file}: {e}\")\n",
        "\n",
        "# Merge all the collected DataFrames\n",
        "if dfs:\n",
        "    merged_df = pd.concat(dfs, ignore_index=True)\n",
        "    merged_df.to_csv(\"merged_2024.csv\", index=False)\n",
        "    print(\"✅ Merged selected folder data saved as merged_selected_folders.csv\")\n",
        "else:\n",
        "    print(\"⚠️ No data was merged. Check the folder names or contents.\")\n"
      ]
    }
  ],
  "metadata": {
    "colab": {
      "provenance": []
    },
    "kernelspec": {
      "display_name": "Python 3",
      "language": "python",
      "name": "python3"
    },
    "language_info": {
      "codemirror_mode": {
        "name": "ipython",
        "version": 3
      },
      "file_extension": ".py",
      "mimetype": "text/x-python",
      "name": "python",
      "nbconvert_exporter": "python",
      "pygments_lexer": "ipython3",
      "version": "3.12.10"
    }
  },
  "nbformat": 4,
  "nbformat_minor": 0
}
